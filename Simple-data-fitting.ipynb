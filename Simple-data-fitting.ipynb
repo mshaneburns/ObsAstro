{
 "cells": [
  {
   "cell_type": "markdown",
   "metadata": {},
   "source": [
    "# Data Fitting\n",
    "One of the most common data analysis problems and one you will frequently encounter in astronomy is fitting a curve to a set of data points. Suppose you have a set of $N$ data points $\\{x_i, y_i\\}$ and that you wish to fit the data to the function $$y(x) = a x + b,$$ where the $a$ and $b$ are adjustable parameters that give the \"best fit.\" In this tutorial we will use Python to find the best fit parameters $a$ and $b$ and their associated uncertainties. You can read more about what constitues a \"best fit\" on the <a href=\"https://faculty1.coloradocollege.edu/~sburns/toolbox/DataFitting.html\">Scientific Computing Toolbox website</a> or refer to one of the books [referenced below](#references). "
   ]
  },
  {
   "cell_type": "markdown",
   "metadata": {},
   "source": [
    "We will use some artificially generated data to illustrate the process. The table below shows the data we wish to fit. For this tutorial we will assume we don't have estimates of the uncertainties in either the $x$ or the $y$ data values. There is always some uncertainty in any measurement, but sometimes it's difficult to estimate. That's the case for these data. ([The Data Fitting with Uncertaineis tutorial](Simple-data-fitting-with-uncertainties.ipynb) explains how to fit data when uncertainties in the $y$ data values are known.) That data for this tutorial is in the a file called `FakeData.csv` in the `data` directory. \n",
    "\n",
    "  $x$  | $y$\n",
    " ---   | ---  \n",
    " 8.213 | 3.107\n",
    " 7.402 | 2.551\n",
    " 6.876 | 2.200\n",
    " 5.491 | 1.306\n",
    " 5.196 | 1.110\n",
    "\n",
    "The first step is to import the needed Python modules."
   ]
  },
  {
   "cell_type": "code",
   "execution_count": 1,
   "metadata": {},
   "outputs": [],
   "source": [
    "import numpy as np\n",
    "import matplotlib.pyplot as plt\n",
    "from scipy.optimize import curve_fit"
   ]
  },
  {
   "cell_type": "markdown",
   "metadata": {},
   "source": [
    "The first two lines above are the familar commands for importing NumPy and the needed Matplotlib modules. The second line imports a single function `curve_fit()` from the `scipy.optimize` module. \n",
    "\n",
    "Next we have our program read the data from the `FakeData.csv` file."
   ]
  },
  {
   "cell_type": "code",
   "execution_count": 2,
   "metadata": {},
   "outputs": [],
   "source": [
    "xdata,ydata=np.loadtxt('data/FakeData.csv',unpack=True,delimiter=',')"
   ]
  },
  {
   "cell_type": "markdown",
   "metadata": {},
   "source": [
    "This command reads the data from the file `FakeData.csv` and loads the first column in the file into the `xdata` array and the second column into `ydata`. The `unpack=True` argument is needed to load the columns properly. (See the [SciPy documentation](https://docs.scipy.org/doc/numpy/reference/generated/numpy.loadtxt.html) if you want to understand exactly what `unpack=True` argument does.) We use `delimiter=','` is a CSV (comma-separated values)file. "
   ]
  },
  {
   "cell_type": "markdown",
   "metadata": {},
   "source": [
    "Now we need to define the function we wish to fit. The `curvefit()` function will actually fit any arbitrary function. When we run `curve_fit()` we must pass it the name of a fitting function. We must write the code for that function ourselves. In this case we want to fit our data to a straight line. In Python we define functions with the `def` command followed by the name of the function and then the function's arguments. All *indented* lines after the definition line are included in the function. Below is the definition of our linear function. "
   ]
  },
  {
   "cell_type": "code",
   "execution_count": 3,
   "metadata": {},
   "outputs": [],
   "source": [
    "def linearFunc(x,intercept,slope):\n",
    "    y = intercept + slope * x\n",
    "    return y"
   ]
  },
  {
   "cell_type": "markdown",
   "metadata": {},
   "source": [
    "The `return y` statement tells Python to return the value of `y` whenever the function is called. "
   ]
  },
  {
   "cell_type": "markdown",
   "metadata": {},
   "source": [
    "You can give your function any name you like. I called it `linearFunc`.\n",
    "\n",
    "The next step is to actually do the fit using `curvefit()`. We must pass `curvefit()` the name of the function to fit, the horizontal axis data, and the vertical axis data. The program returns some arrays containing the best fit parameters and the [covariance matrix](https://en.wikipedia.org/wiki/Covariance_matrix). We will use the covariance matrix to determine the uncertainites in the slope and intercept of the best fit line."
   ]
  },
  {
   "cell_type": "code",
   "execution_count": 4,
   "metadata": {},
   "outputs": [],
   "source": [
    "a_fit,cov=curve_fit(linearFunc,xdata,ydata)"
   ]
  },
  {
   "cell_type": "markdown",
   "metadata": {},
   "source": [
    "The next two lines assign the best-fit parameters returned by the `curve_fit()` to the variable `inter` and `slope`. "
   ]
  },
  {
   "cell_type": "code",
   "execution_count": 5,
   "metadata": {},
   "outputs": [],
   "source": [
    "inter = a_fit[0]\n",
    "slope = a_fit[1]"
   ]
  },
  {
   "cell_type": "markdown",
   "metadata": {},
   "source": [
    "Next, the uncertainties in the intercept and slope are computed from the covarience matrix and assigned to the variables `d_inter` and `d_slope`."
   ]
  },
  {
   "cell_type": "code",
   "execution_count": 6,
   "metadata": {},
   "outputs": [],
   "source": [
    "d_inter = np.sqrt(cov[0][0])\n",
    "d_slope = np.sqrt(cov[1][1])"
   ]
  },
  {
   "cell_type": "markdown",
   "metadata": {},
   "source": [
    "The following code is used to plot the data and the fit."
   ]
  },
  {
   "cell_type": "code",
   "execution_count": 7,
   "metadata": {},
   "outputs": [
    {
     "data": {
      "image/png": "[encoded data removed]",
      "text/plain": [
       "<Figure size 432x288 with 1 Axes>"
      ]
     },
     "metadata": {
      "needs_background": "light"
     },
     "output_type": "display_data"
    }
   ],
   "source": [
    "# Create a graph showing the data.\n",
    "plt.plot(xdata,ydata,'ro',label='Data')\n",
    "\n",
    "# Compute a best fit y values from the fit intercept and slope.\n",
    "yfit = inter + slope*xdata\n",
    "\n",
    "# Create a graph of the fit to the data.\n",
    "plt.plot(xdata,yfit,label='Fit')\n",
    "\n",
    "# Display a legend, label the x and y axes and title the graph.\n",
    "plt.legend()\n",
    "plt.xlabel('x')\n",
    "plt.ylabel('y')\n",
    "plt.title('Plot of data with fit')\n",
    "\n",
    "# Save the figure to a file\n",
    "plt.savefig('FakeData_example.png',dpi=300)\n",
    "\n",
    "# Show the graph in a new window on the users screen.\n",
    "plt.show()"
   ]
  },
  {
   "cell_type": "markdown",
   "metadata": {},
   "source": [
    "We will use a the `print()` command to print the best fit parameters and uncertainties. Here we use [Python f-strings](https://realpython.com/python-f-strings/) to present the result. F-strings are prefixed with an `f`  and allow us to include variable names enclosed in `{}`. When the string is printed the values for the variables are substituted into the string. An example makes this clearer.  "
   ]
  },
  {
   "cell_type": "code",
   "execution_count": 8,
   "metadata": {},
   "outputs": [
    {
     "name": "stdout",
     "output_type": "stream",
     "text": [
      "The slope = 0.6587176810599606, with uncertainty 0.004847097046293069\n",
      "The intercept = -2.3161870444414747, with uncertainty 0.03263589309955414\n"
     ]
    }
   ],
   "source": [
    "# Display the best fit values for the slope and intercept. These print\n",
    "# statments illustrate how to print a mix of strings and variables.\n",
    "print(f'The slope = {slope}, with uncertainty {d_slope}')\n",
    "print(f'The intercept = {inter}, with uncertainty {d_inter}')"
   ]
  },
  {
   "cell_type": "markdown",
   "metadata": {},
   "source": [
    "By default, f-strings usually present the results with more precision than we need, but it's easy to round the numbers to the desired precision. You can learn more about controling the display precision on the [Python Documentation website.](https://docs.python.org/3/reference/lexical_analysis.html#formatted-string-literals) "
   ]
  },
  {
   "cell_type": "markdown",
   "metadata": {},
   "source": [
    "## Summary"
   ]
  },
  {
   "cell_type": "markdown",
   "metadata": {},
   "source": [
    "The code above is all you should need to do a simple linear fit to some data. When you're confronted with a new data analysis problem that requires a fit, it is usually faster to modify existing code than to reinvent it every time. I've included the Python script `linearfit.py` in the `code` directory. Feel free to modify that program and use it to write your own fitting programs.\n",
    "\n",
    "A table with a short description of the Python functions used in this tutorial is posted on the [Scientific Computing Toolbox: Command Summary Page](https://faculty1.coloradocollege.edu/%7Esburns/toolbox/CommandSummary.html). \n"
   ]
  },
  {
   "cell_type": "markdown",
   "metadata": {},
   "source": [
    "<hr>\n",
    "<a name=\"references\"><b>References</b></a>\n",
    "\n",
    "1. Bevington and Robinson, *Data Reduction and Error Analysis for the Physical Sciences 3rd Edition* (McGraw-Hill Education, 2002)  \n",
    "2. Taylor, *An Introduction to Error Analysis: The Study of Uncertainties in Physical Measurements 2nd Edition*, (University Science Books, 1996)"
   ]
  }
 ],
 "metadata": {
  "kernelspec": {
   "display_name": "Python 3",
   "language": "python",
   "name": "python3"
  },
  "language_info": {
   "codemirror_mode": {
    "name": "ipython",
    "version": 3
   },
   "file_extension": ".py",
   "mimetype": "text/x-python",
   "name": "python",
   "nbconvert_exporter": "python",
   "pygments_lexer": "ipython3",
   "version": "3.8.8"
  }
 },
 "nbformat": 4,
 "nbformat_minor": 2
}
