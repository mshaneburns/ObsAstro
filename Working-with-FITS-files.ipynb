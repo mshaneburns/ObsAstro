{
 "cells": [
  {
   "cell_type": "markdown",
   "id": "9cc0b72e",
   "metadata": {},
   "source": [
    "# Working with FITS files\n",
    "The standard data file format used by astronomers is called FITS ([Flexible Image Transport System](https://fits.gsfc.nasa.gov)). FITS files can contain just about any kind of data you can imagine, but here we are mainly interested in accessing imaging data stored in a FITS format. Each image stored in a FITS file consists of two parts. The image data itself is stored two-dimentional array of numbers, but there is also a human readable header file that contains metadata about the image. \n",
    "\n",
    "## HDUs\n",
    "A FITS file can actually contain more than one image. Each image is stored in a Header/Data Unit (HDU). Often there is only one image so there is only one HDU in the file.\n",
    "\n",
    "## FITS Headers\n",
    "Examples of metadata are stored in the header are the dimenions of the image (1024 by 1024 pixels for example). The header might also contain information about the observatory, detector, and filters used to take the data. \n",
    "\n",
    "Each record in the header can only be 80 [ASCII](https://en.wikipedia.org/wiki/ASCII) long and must be of the format\n",
    "\n",
    "`KEYWORD = value / comment string`\n",
    "\n",
    "The simpilist header for a two-dimensional would have the following keywords:\n",
    "\n",
    "```\n",
    "SIMPLE  =                     T / file conforms to FITS standard\n",
    "BITPIX  =                    16 / number of bits per data pixel\n",
    "NAXIS   =                     2 / number of data axes\n",
    "NAXIS1  =                  1024 / length of data axis 1\n",
    "NAXIS2  =                  1024 / length of data axis 2\n",
    "```\n",
    "\n",
    "## Image Data\n",
    "The image data part of the HDU is in binary format and isn't human readable. The image data can be stored as integers or floating point numbers. The image data format is specified in the header."
   ]
  },
  {
   "cell_type": "code",
   "execution_count": null,
   "id": "c3fd6df8",
   "metadata": {},
   "outputs": [],
   "source": []
  }
 ],
 "metadata": {
  "kernelspec": {
   "display_name": "Python 3",
   "language": "python",
   "name": "python3"
  },
  "language_info": {
   "codemirror_mode": {
    "name": "ipython",
    "version": 3
   },
   "file_extension": ".py",
   "mimetype": "text/x-python",
   "name": "python",
   "nbconvert_exporter": "python",
   "pygments_lexer": "ipython3",
   "version": "3.7.10"
  }
 },
 "nbformat": 4,
 "nbformat_minor": 5
}
