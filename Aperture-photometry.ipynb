{
 "cells": [
  {
   "cell_type": "markdown",
   "id": "a16c2e57",
   "metadata": {},
   "source": [
    "# Aperture photometry\n",
    "In this tutorial is a rudimentary introduction to using the [Photutils](https://photutils.readthedocs.io/en/stable/index.html) to perform aperture photometry.\n",
    "\n",
    "Before you can use Photutils you will need to download the package. If you are using the Anaconda distribution of Python you can install Photutils using using the [conda-forge Anaconda channel](https://anaconda.org/conda-forge/photutils), run:\n",
    "```\n",
    "conda install -c conda-forge photutils\n",
    "```\n",
    "If you are using a different Python distribution, see the [Photoutils Installation page](https://photutils.readthedocs.io/en/stable/install.html)."
   ]
  },
  {
   "cell_type": "code",
   "execution_count": 1,
   "id": "b7bde5b1",
   "metadata": {},
   "outputs": [],
   "source": [
    "import numpy as np\n",
    "import matplotlib.pyplot as plt\n",
    "from astropy.visualization import astropy_mpl_style\n",
    "from astropy.io import fits\n",
    "plt.style.use('~/lib/python/im_disp.mplstyle') "
   ]
  },
  {
   "cell_type": "code",
   "execution_count": 2,
   "id": "4d92515b",
   "metadata": {},
   "outputs": [
    {
     "name": "stdout",
     "output_type": "stream",
     "text": [
      "Filename: images/stars10_p.fits\n",
      "No.    Name      Ver    Type      Cards   Dimensions   Format\n",
      "  0  PRIMARY       1 PrimaryHDU       9   (512, 512)   float64   \n"
     ]
    }
   ],
   "source": [
    "hdu_list = fits.open('images/stars10_p.fits')\n",
    "hdu_list.info()"
   ]
  },
  {
   "cell_type": "code",
   "execution_count": 3,
   "id": "43bb799b",
   "metadata": {},
   "outputs": [
    {
     "data": {
      "text/plain": [
       "<matplotlib.colorbar.Colorbar at 0x7fcc872665b0>"
      ]
     },
     "execution_count": 3,
     "metadata": {},
     "output_type": "execute_result"
    },
    {
     "data": {
      "image/png": "[encoded data removed]",
      "text/plain": [
       "<Figure size 576x432 with 2 Axes>"
      ]
     },
     "metadata": {},
     "output_type": "display_data"
    }
   ],
   "source": [
    "imheader = hdu_list[0].header\n",
    "imdata = hdu_list[0].data\n",
    "hdu_list.close()\n",
    "plt.imshow(imdata)\n",
    "plt.colorbar()"
   ]
  },
  {
   "cell_type": "code",
   "execution_count": 4,
   "id": "425d64a2",
   "metadata": {},
   "outputs": [
    {
     "data": {
      "text/plain": [
       "SIMPLE  =                    T / conforms to FITS standard                      \n",
       "BITPIX  =                  -64 / array data type                                \n",
       "NAXIS   =                    2 / number of array dimensions                     \n",
       "NAXIS1  =                  512                                                  \n",
       "NAXIS2  =                  512                                                  \n",
       "EXTEND  =                    T                                                  \n",
       "OBJECT  = '10 stars'                                                            \n",
       "EXPTIME =                   60                                                  \n",
       "GAIN    =                  2.6                                                  "
      ]
     },
     "execution_count": 4,
     "metadata": {},
     "output_type": "execute_result"
    }
   ],
   "source": [
    "imheader"
   ]
  },
  {
   "cell_type": "code",
   "execution_count": 5,
   "id": "a47f3900",
   "metadata": {},
   "outputs": [
    {
     "name": "stdout",
     "output_type": "stream",
     "text": [
      "275.0\n"
     ]
    }
   ],
   "source": [
    "back = np.median(imdata)\n",
    "print(back)"
   ]
  },
  {
   "cell_type": "code",
   "execution_count": null,
   "id": "4b26cad8",
   "metadata": {},
   "outputs": [],
   "source": []
  }
 ],
 "metadata": {
  "kernelspec": {
   "display_name": "Python 3",
   "language": "python",
   "name": "python3"
  },
  "language_info": {
   "codemirror_mode": {
    "name": "ipython",
    "version": 3
   },
   "file_extension": ".py",
   "mimetype": "text/x-python",
   "name": "python",
   "nbconvert_exporter": "python",
   "pygments_lexer": "ipython3",
   "version": "3.8.10"
  }
 },
 "nbformat": 4,
 "nbformat_minor": 5
}
