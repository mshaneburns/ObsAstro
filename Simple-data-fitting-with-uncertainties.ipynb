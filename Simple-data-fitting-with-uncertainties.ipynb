{
 "cells": [
  {
   "cell_type": "markdown",
   "metadata": {},
   "source": [
    "# Data Fitting with Error\n",
    "Suppose you have a set of $N$ data points $\\{x_i, y_i\\}$ and a set of estimated uncertainties for the $y$ values $\\{\\delta y_i\\}$. You wish to fit the data to the function $$y(x) = a x + b,$$ where the $a$ and $b$ are adjustable parameters that give the \"best fit.\" This page just describes the programming that needs to be done to find the best fit parameters $a$ and $b$ and their associated uncertainties and compute a $\\chi^2$ value to determine the quality of the fit. We will use data from an experiment to measure Planck's constant to illustrate the process. You can read more about what constitues the \"best fit\" on the <a href=\"https://faculty1.coloradocollege.edu/~sburns/toolbox/DataFitting.html\">Scientific Computing Toolbox website</a> or refer to one of the books [referenced below](#references). \n",
    "\n",
    "A table of the data with uncertainties is shown below. A text file with this data called `FakeData_with_error.txt` is included in the [`fitting_with_error.zip` file](fitting_with_error.zip).\n",
    "\n",
    "$x$    |   $y$   |   $\\delta_{y}$\n",
    "--- | --- | ---\n",
    "8.213   |   3.261   |   9.71\n",
    "7.402   |   2.52    |   5.59\n",
    "6.876   |   2.239   |   7.08\n",
    "5.491   |   1.299   |   6.83\n",
    "5.196   |   1.175   |   8.93\n",
    "\n",
    "The code is very similar to the code for a fit without uncertainties, but this time we must read the uncertainties from the file, and pass an array containing these uncertainties to `curvefit()`. "
   ]
  },
  {
   "cell_type": "markdown",
   "metadata": {},
   "source": [
    "The first step is to import the needed Python modules."
   ]
  },
  {
   "cell_type": "code",
   "execution_count": 1,
   "metadata": {},
   "outputs": [],
   "source": [
    "from pylab import *\n",
    "from scipy.optimize import curve_fit"
   ]
  },
  {
   "cell_type": "markdown",
   "metadata": {},
   "source": [
    " We also need to define the linear function to be fit."
   ]
  },
  {
   "cell_type": "code",
   "execution_count": 2,
   "metadata": {},
   "outputs": [],
   "source": [
    "def linearFunc(x,intercept,slope):\n",
    "    y = intercept + slope * x\n",
    "    return y"
   ]
  },
  {
   "cell_type": "markdown",
   "metadata": {},
   "source": [
    "Next we have our program read the data from the `FakeData_with_error.txt` file. It's simple to read the the uncertainties into an array. The file contains three columns of data. The first column contains the $x$ data values, the second the $y$ data values, and the third the uncertainties in $y$. "
   ]
  },
  {
   "cell_type": "code",
   "execution_count": 3,
   "metadata": {},
   "outputs": [],
   "source": [
    "xdata,ydata,d_y = loadtxt('FakeData_with_error.txt',unpack=True)"
   ]
  },
  {
   "cell_type": "markdown",
   "metadata": {},
   "source": [
    "We pass the uncertainties to `curve_fit` by adding the argument `sigma=d_y` to the function call."
   ]
  },
  {
   "cell_type": "code",
   "execution_count": 4,
   "metadata": {},
   "outputs": [],
   "source": [
    "a_fit,cov=curve_fit(linearFunc,xdata,ydata,sigma=d_y,absolute_sigma=True)"
   ]
  },
  {
   "cell_type": "markdown",
   "metadata": {},
   "source": [
    "We need to include `absolute_sigma=True` to make sure `sigma` is used in an absolute sense and the estimated parameter covariance `cov` is computed with the actual `sigma` values. If `absolute_sigma=False` (default), the relative magnitudes of the `sigma` values are used to weight the fit, but the estimated slope and intercept uncertainties are computed assuming $\\chi_r^2 = 1$. See the [Scientific Computing Toobox: Data Fitting](https://faculty1.coloradocollege.edu/~sburns/toolbox/DataFitting.html) page or the [references listed at the end of this page](#references) for a more complete discussion of this subtle distinction.\n",
    "\n",
    "We get the best fit slope and the uncertainties from `a_fit` and `cov`."
   ]
  },
  {
   "cell_type": "code",
   "execution_count": 5,
   "metadata": {},
   "outputs": [],
   "source": [
    "inter = a_fit[0]\n",
    "slope = a_fit[1]\n",
    "d_inter = sqrt(cov[0][0])\n",
    "d_slope = sqrt(cov[1][1])"
   ]
  },
  {
   "cell_type": "markdown",
   "metadata": {},
   "source": [
    "We use the function `errorbar()` to plot the data showing error bars on the data points. This function works very much like the `plot()` command. We just have to specify an additonal array containing the uncertainties with the  argument `yerr=d_y`. The `errorbar()` function also requires that we specify the format to be used to display the data points. In this case the argument `fmt='r.'` will display the data as red dots."
   ]
  },
  {
   "cell_type": "code",
   "execution_count": 6,
   "metadata": {},
   "outputs": [
    {
     "data": {
      "image/png": "[encoded data removed]",
      "text/plain": [
       "<Figure size 432x288 with 1 Axes>"
      ]
     },
     "metadata": {
      "needs_background": "light"
     },
     "output_type": "display_data"
    }
   ],
   "source": [
    "# Create a graph showing the data.\n",
    "errorbar(xdata,ydata,yerr=d_y,fmt='r.',label='Data')\n",
    "\n",
    "# Compute a best fit line from the fit intercept and slope.\n",
    "yfit = inter + slope*xdata\n",
    "\n",
    "# Create a graph of the fit to the data. We just use the ordinary plot\n",
    "# command for this.\n",
    "plot(xdata,yfit,label='Fit')\n",
    "\n",
    "# Display a legend, label the x and y axes and title the graph.\n",
    "legend()\n",
    "xlabel('x')\n",
    "ylabel('y')\n",
    "\n",
    "# Save the figure to a file\n",
    "savefig('FakeDataPlot_with_error.png')\n",
    "\n",
    "# Show the graph in a new window on the users screen.\n",
    "show()"
   ]
  },
  {
   "cell_type": "markdown",
   "metadata": {},
   "source": [
    "Now we can display the numerical result."
   ]
  },
  {
   "cell_type": "code",
   "execution_count": 7,
   "metadata": {},
   "outputs": [
    {
     "name": "stdout",
     "output_type": "stream",
     "text": [
      "The slope = 0.6656028702881751, with uncertainty 0.03157719566099185\n",
      "The intercept = -2.3430681719234285, with uncertainty 0.21311098958953478\n"
     ]
    }
   ],
   "source": [
    "print(f'The slope = {slope}, with uncertainty {d_slope}')\n",
    "print(f'The intercept = {inter}, with uncertainty {d_inter}')"
   ]
  },
  {
   "cell_type": "markdown",
   "metadata": {},
   "source": [
    "When we have estimated uncertainties in the data, then we can estimate the goodness of fit by computing the reduced chi-squared statistic. For a linear fit to a set of $N$ data points $\\{x_i,y_i\\}$ that have esimated uncertainties in the $y_i$ values of $\\{\\delta y_i\\}$,  \n",
    "$$\n",
    "\\chi_r^2 = \\frac{1}{N-2}\\sum_{i=1}^N \\frac{\\left(y_i-y(x_i)\\right)^2}{\\delta y_i},\n",
    "$$\n",
    "where for a linear fit $y(x) = a + bx$.  For a good fit, $\\chi_r^2$ should be approximatly equal to one."
   ]
  },
  {
   "cell_type": "code",
   "execution_count": 8,
   "metadata": {},
   "outputs": [
    {
     "name": "stdout",
     "output_type": "stream",
     "text": [
      "Reduced chi^2 = 1.2633310164063059\n"
     ]
    }
   ],
   "source": [
    "chisqr = sum((ydata-linearFunc(xdata,inter,slope))**2/d_y**2)\n",
    "dof = len(ydata) - 2\n",
    "chisqr_red = chisqr/dof\n",
    "print(f'Reduced chi^2 = {chisqr_red}')"
   ]
  },
  {
   "cell_type": "markdown",
   "metadata": {},
   "source": [
    "In this case, the computed value of $\\chi_r^2$ is close to one indicating a good fit. See the [Scientific Computing Toobox: Data Fitting](https://faculty1.coloradocollege.edu/~sburns/toolbox/DataFitting.html) page or the [references listed at the end of this page](#references) for a more complete discussion of the reduced chi-square statistic. "
   ]
  },
  {
   "cell_type": "markdown",
   "metadata": {},
   "source": [
    "## Summary"
   ]
  },
  {
   "cell_type": "markdown",
   "metadata": {},
   "source": [
    "The code above is all you should need to do linear fits to data. When you're confronted with a new data analysis problem that requires a fit, it is usually faster to modify existing code than to reinvent it every time. I've included a Python script, the data file, and the Jupyter Notebook that generated this page in a ZIP file. ([Download the `fitting_with_error.zip` file](fitting_with_error.zip)) Feel free to modify the program and use it when you need to do a linear fit.\n",
    "\n",
    "A table with a short description of the Python functions used in this tutorial is posted on the [Scientific Computing Toolbox: Command Summary Page](https://faculty1.coloradocollege.edu/%7Esburns/toolbox/CommandSummary.html). \n"
   ]
  },
  {
   "cell_type": "markdown",
   "metadata": {},
   "source": [
    "<hr>\n",
    "<a name=\"references\"><b>References</b></a>\n",
    "\n",
    "1. Bevington and Robinson, *Data Reduction and Error Analysis for the Physical Sciences 3rd Edition* (McGraw-Hill Education, 2002)  \n",
    "2. Taylor, *An Introduction to Error Analysis: The Study of Uncertainties in Physical Measurements 2nd Edition*, (University Science Books, 1996)"
   ]
  }
 ],
 "metadata": {
  "kernelspec": {
   "display_name": "Python 3",
   "language": "python",
   "name": "python3"
  },
  "language_info": {
   "codemirror_mode": {
    "name": "ipython",
    "version": 3
   },
   "file_extension": ".py",
   "mimetype": "text/x-python",
   "name": "python",
   "nbconvert_exporter": "python",
   "pygments_lexer": "ipython3",
   "version": "3.8.3"
  }
 },
 "nbformat": 4,
 "nbformat_minor": 2
}
